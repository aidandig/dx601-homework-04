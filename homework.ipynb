{
  "cells": [
    {
      "cell_type": "markdown",
      "metadata": {
        "id": "QOUYaLGHhOgH"
      },
      "source": [
        "# DX 601 Week 4 Homework"
      ]
    },
    {
      "cell_type": "markdown",
      "metadata": {
        "id": "_NYSQfpU6p9u"
      },
      "source": [
        "## Introduction\n",
        "\n",
        "In this homework, you will practice linear regression and working with random variables.\n",
        "The data sets of this homework are small, so your code should run in an instant, but you will be able to apply the same techniques to larger data sets.\n",
        "\n",
        "You may find it helpful to refer to these GitHub repositories of Jupyter notebooks for sample code.\n",
        "\n",
        "* https://github.com/bu-cds-omds/dx500-examples\n",
        "* https://github.com/bu-cds-omds/dx601-examples\n",
        "* https://github.com/bu-cds-omds/dx602-examples\n",
        "\n",
        "Any calculations demonstrated in code examples or videos may be found in these notebooks, and you are allowed to copy this example code in your homework answers."
      ]
    },
    {
      "cell_type": "markdown",
      "metadata": {
        "id": "GH7dFzB97Wlh"
      },
      "source": [
        "## Instructions\n",
        "\n",
        "You should replace every instance of \"...\" below.\n",
        "These are where you are expected to write code to answer each problem.\n",
        "\n",
        "After some of the problems, there are extra code cells that will test functions that you wrote so you can quickly see how they run on an example.\n",
        "If your code works on these examples, it is more likely to be correct.\n",
        "However, the autograder will test different examples, so working correctly on these examples does not guarantee full credit for the problem.\n",
        "You may change the example inputs to further test your functions on your own.\n",
        "You may also add your own example inputs for problems where we did not provide any.\n",
        "\n",
        "Be sure to run each code block after you edit it to make sure it runs as expected.\n",
        "When you are done, we strongly recommend you run all the code from scratch (Runtime menu -> Restart and Run all) to make sure your current code works for all problems.\n",
        "\n",
        "If your code raises an exception when run from scratch, it will  interfere with the auto-grader process causing you to lose some or all points for this homework.\n",
        "Please ask for help in YellowDig or schedule an appointment with a learning facilitator if you get stuck.\n"
      ]
    },
    {
      "cell_type": "markdown",
      "metadata": {
        "id": "Ze7ev3s6Bu44"
      },
      "source": [
        "## Problems"
      ]
    },
    {
      "cell_type": "markdown",
      "metadata": {
        "id": "vf-VY5qsmS7n"
      },
      "source": [
        "## Shared Imports\n",
        "\n",
        "Do not install or use any additional modules.\n",
        "Installing additional modules may result in an autograder failure resulting in zero points for some or all problems."
      ]
    },
    {
      "cell_type": "code",
      "execution_count": 14,
      "metadata": {
        "id": "RWYk7xICmOGe"
      },
      "outputs": [],
      "source": [
        "import math\n",
        "import random"
      ]
    },
    {
      "cell_type": "code",
      "execution_count": 15,
      "metadata": {
        "id": "RJSJeBTwCIUS"
      },
      "outputs": [],
      "source": [
        "import matplotlib.pyplot as plt\n",
        "import numpy as np\n",
        "import pandas as pd\n",
        "import sklearn.linear_model"
      ]
    },
    {
      "cell_type": "markdown",
      "metadata": {
        "id": "UIRa5mxfB3FG"
      },
      "source": [
        "### Shared Data\n",
        "\n",
        "Many of the problems will use this mango data set.\n",
        "This data set is small and your code should run instantly with it, but you will be able to use the same code and techniques with larger data sets."
      ]
    },
    {
      "cell_type": "code",
      "execution_count": 16,
      "metadata": {
        "id": "PiW8n851CKo8"
      },
      "outputs": [],
      "source": [
        "mango_data = pd.read_csv(\"mango-tiny.tsv\", sep=\"\\t\")"
      ]
    },
    {
      "cell_type": "code",
      "execution_count": 17,
      "metadata": {
        "colab": {
          "base_uri": "https://localhost:8080/",
          "height": 317
        },
        "id": "MrVaT2kv41QQ",
        "outputId": "828770a9-6f46-422e-b9ac-d01f1dbd5fb0"
      },
      "outputs": [
        {
          "data": {
            "text/html": [
              "<div>\n",
              "<style scoped>\n",
              "    .dataframe tbody tr th:only-of-type {\n",
              "        vertical-align: middle;\n",
              "    }\n",
              "\n",
              "    .dataframe tbody tr th {\n",
              "        vertical-align: top;\n",
              "    }\n",
              "\n",
              "    .dataframe thead th {\n",
              "        text-align: right;\n",
              "    }\n",
              "</style>\n",
              "<table border=\"1\" class=\"dataframe\">\n",
              "  <thead>\n",
              "    <tr style=\"text-align: right;\">\n",
              "      <th></th>\n",
              "      <th>green_rating</th>\n",
              "      <th>yellow_rating</th>\n",
              "      <th>softness</th>\n",
              "      <th>wrinkles</th>\n",
              "      <th>estimated_flavor</th>\n",
              "      <th>estimated_sweetness</th>\n",
              "      <th>rated_flavor</th>\n",
              "    </tr>\n",
              "  </thead>\n",
              "  <tbody>\n",
              "    <tr>\n",
              "      <th>0</th>\n",
              "      <td>1</td>\n",
              "      <td>5</td>\n",
              "      <td>4</td>\n",
              "      <td>0</td>\n",
              "      <td>4</td>\n",
              "      <td>4</td>\n",
              "      <td>5</td>\n",
              "    </tr>\n",
              "    <tr>\n",
              "      <th>1</th>\n",
              "      <td>1</td>\n",
              "      <td>5</td>\n",
              "      <td>5</td>\n",
              "      <td>1</td>\n",
              "      <td>5</td>\n",
              "      <td>5</td>\n",
              "      <td>1</td>\n",
              "    </tr>\n",
              "    <tr>\n",
              "      <th>2</th>\n",
              "      <td>2</td>\n",
              "      <td>4</td>\n",
              "      <td>3</td>\n",
              "      <td>1</td>\n",
              "      <td>3</td>\n",
              "      <td>3</td>\n",
              "      <td>3</td>\n",
              "    </tr>\n",
              "    <tr>\n",
              "      <th>3</th>\n",
              "      <td>3</td>\n",
              "      <td>3</td>\n",
              "      <td>2</td>\n",
              "      <td>0</td>\n",
              "      <td>2</td>\n",
              "      <td>1</td>\n",
              "      <td>2</td>\n",
              "    </tr>\n",
              "    <tr>\n",
              "      <th>4</th>\n",
              "      <td>5</td>\n",
              "      <td>1</td>\n",
              "      <td>1</td>\n",
              "      <td>1</td>\n",
              "      <td>1</td>\n",
              "      <td>1</td>\n",
              "      <td>1</td>\n",
              "    </tr>\n",
              "    <tr>\n",
              "      <th>5</th>\n",
              "      <td>4</td>\n",
              "      <td>2</td>\n",
              "      <td>1</td>\n",
              "      <td>1</td>\n",
              "      <td>1</td>\n",
              "      <td>1</td>\n",
              "      <td>1</td>\n",
              "    </tr>\n",
              "    <tr>\n",
              "      <th>6</th>\n",
              "      <td>5</td>\n",
              "      <td>1</td>\n",
              "      <td>1</td>\n",
              "      <td>1</td>\n",
              "      <td>2</td>\n",
              "      <td>1</td>\n",
              "      <td>1</td>\n",
              "    </tr>\n",
              "    <tr>\n",
              "      <th>7</th>\n",
              "      <td>3</td>\n",
              "      <td>3</td>\n",
              "      <td>2</td>\n",
              "      <td>1</td>\n",
              "      <td>2</td>\n",
              "      <td>2</td>\n",
              "      <td>2</td>\n",
              "    </tr>\n",
              "  </tbody>\n",
              "</table>\n",
              "</div>"
            ],
            "text/plain": [
              "   green_rating  yellow_rating  softness  wrinkles  estimated_flavor  \\\n",
              "0             1              5         4         0                 4   \n",
              "1             1              5         5         1                 5   \n",
              "2             2              4         3         1                 3   \n",
              "3             3              3         2         0                 2   \n",
              "4             5              1         1         1                 1   \n",
              "5             4              2         1         1                 1   \n",
              "6             5              1         1         1                 2   \n",
              "7             3              3         2         1                 2   \n",
              "\n",
              "   estimated_sweetness  rated_flavor  \n",
              "0                    4             5  \n",
              "1                    5             1  \n",
              "2                    3             3  \n",
              "3                    1             2  \n",
              "4                    1             1  \n",
              "5                    1             1  \n",
              "6                    1             1  \n",
              "7                    2             2  "
            ]
          },
          "execution_count": 17,
          "metadata": {},
          "output_type": "execute_result"
        }
      ],
      "source": [
        "mango_data"
      ]
    },
    {
      "cell_type": "markdown",
      "metadata": {
        "id": "Poy2o9ST1EvL"
      },
      "source": [
        "### Problem 1\n",
        "\n",
        "Set `p1` to the number of parameters in a linear model trained on the mango data set that predicts rated flavor from the other columns."
      ]
    },
    {
      "cell_type": "code",
      "execution_count": null,
      "metadata": {
        "id": "nhdirreg1pyy"
      },
      "outputs": [],
      "source": [
        "# YOUR CHANGES HERE\n",
        "\n",
        "p1 = 7"
      ]
    },
    {
      "cell_type": "code",
      "execution_count": 19,
      "metadata": {},
      "outputs": [
        {
          "data": {
            "text/plain": [
              "6"
            ]
          },
          "execution_count": 19,
          "metadata": {},
          "output_type": "execute_result"
        }
      ],
      "source": [
        "p1"
      ]
    },
    {
      "cell_type": "markdown",
      "metadata": {
        "id": "g06sNjVm2R_J"
      },
      "source": [
        "### Problem 2\n",
        "\n",
        "Set `p2` to $\\lim_{x \\rightarrow 2} \\frac{(x^2-4)}{x+2}$."
      ]
    },
    {
      "cell_type": "markdown",
      "metadata": {},
      "source": [
        "Hint: Try to simplify that fraction assuming $x \\neq 2$."
      ]
    },
    {
      "cell_type": "code",
      "execution_count": 20,
      "metadata": {
        "id": "OpJpSZXW2RDO"
      },
      "outputs": [],
      "source": [
        "# YOUR CHANGES HERE\n",
        "# (2**2 - 4) / (2 + 2)\n",
        "# (4 - 4) / 4\n",
        "# 0 / 4 = 0\n",
        "p2 = 0"
      ]
    },
    {
      "cell_type": "markdown",
      "metadata": {},
      "source": [
        "Check the value of `p2`."
      ]
    },
    {
      "cell_type": "code",
      "execution_count": 21,
      "metadata": {},
      "outputs": [
        {
          "data": {
            "text/plain": [
              "0"
            ]
          },
          "execution_count": 21,
          "metadata": {},
          "output_type": "execute_result"
        }
      ],
      "source": [
        "p2"
      ]
    },
    {
      "cell_type": "markdown",
      "metadata": {
        "id": "zb6e3gQs4cgL"
      },
      "source": [
        "### Problem 3\n",
        "\n",
        "What is the derivative of $x^2 - 3x + 9$ at $x=2$?"
      ]
    },
    {
      "cell_type": "code",
      "execution_count": 22,
      "metadata": {},
      "outputs": [
        {
          "data": {
            "image/png": "[encoded data removed]",
            "text/plain": [
              "<Figure size 640x480 with 1 Axes>"
            ]
          },
          "metadata": {},
          "output_type": "display_data"
        }
      ],
      "source": [
        "# DO NOT CHANGE\n",
        "\n",
        "xs = np.linspace(-5, 5)\n",
        "plt.plot(xs, xs * xs - 3 * xs + 9)\n",
        "plt.ylim(0);"
      ]
    },
    {
      "cell_type": "code",
      "execution_count": 23,
      "metadata": {
        "id": "vH-PYxIl2zUn"
      },
      "outputs": [],
      "source": [
        "# YOUR CHANGES HERE\n",
        "# 2x - 3\n",
        "# 2(2) - 3\n",
        "# 4 - 3 = 1\n",
        "p3 = 1"
      ]
    },
    {
      "cell_type": "markdown",
      "metadata": {},
      "source": [
        "Check the value of `p3`."
      ]
    },
    {
      "cell_type": "code",
      "execution_count": 24,
      "metadata": {},
      "outputs": [
        {
          "data": {
            "text/plain": [
              "1"
            ]
          },
          "execution_count": 24,
          "metadata": {},
          "output_type": "execute_result"
        }
      ],
      "source": [
        "p3"
      ]
    },
    {
      "cell_type": "markdown",
      "metadata": {
        "id": "QKUyLpq23Jeg"
      },
      "source": [
        "### Problem 4\n",
        "\n",
        "Set `p4` to the mean row of the mango data set.\n",
        "That is, `p4` should be a single row of data with the same columns, where each value is the mean of the corresponding column in the mango data set."
      ]
    },
    {
      "cell_type": "code",
      "execution_count": 25,
      "metadata": {
        "id": "aNiGYYTg3sbv"
      },
      "outputs": [],
      "source": [
        "# YOUR CHANGES HERE\n",
        "\n",
        "p4 = mango_data.mean().to_frame().T"
      ]
    },
    {
      "cell_type": "code",
      "execution_count": 26,
      "metadata": {},
      "outputs": [
        {
          "data": {
            "text/html": [
              "<div>\n",
              "<style scoped>\n",
              "    .dataframe tbody tr th:only-of-type {\n",
              "        vertical-align: middle;\n",
              "    }\n",
              "\n",
              "    .dataframe tbody tr th {\n",
              "        vertical-align: top;\n",
              "    }\n",
              "\n",
              "    .dataframe thead th {\n",
              "        text-align: right;\n",
              "    }\n",
              "</style>\n",
              "<table border=\"1\" class=\"dataframe\">\n",
              "  <thead>\n",
              "    <tr style=\"text-align: right;\">\n",
              "      <th></th>\n",
              "      <th>green_rating</th>\n",
              "      <th>yellow_rating</th>\n",
              "      <th>softness</th>\n",
              "      <th>wrinkles</th>\n",
              "      <th>estimated_flavor</th>\n",
              "      <th>estimated_sweetness</th>\n",
              "      <th>rated_flavor</th>\n",
              "    </tr>\n",
              "  </thead>\n",
              "  <tbody>\n",
              "    <tr>\n",
              "      <th>0</th>\n",
              "      <td>3.0</td>\n",
              "      <td>3.0</td>\n",
              "      <td>2.375</td>\n",
              "      <td>0.75</td>\n",
              "      <td>2.5</td>\n",
              "      <td>2.25</td>\n",
              "      <td>2.0</td>\n",
              "    </tr>\n",
              "  </tbody>\n",
              "</table>\n",
              "</div>"
            ],
            "text/plain": [
              "   green_rating  yellow_rating  softness  wrinkles  estimated_flavor  \\\n",
              "0           3.0            3.0     2.375      0.75               2.5   \n",
              "\n",
              "   estimated_sweetness  rated_flavor  \n",
              "0                 2.25           2.0  "
            ]
          },
          "execution_count": 26,
          "metadata": {},
          "output_type": "execute_result"
        }
      ],
      "source": [
        "p4"
      ]
    },
    {
      "cell_type": "markdown",
      "metadata": {
        "id": "_4ZYOT4DB0L3"
      },
      "source": [
        "### Problem 5\n",
        "\n",
        "Set `p5` to be the median of the estimated flavor column in the mango data set.\n",
        "\n",
        "You may find NumPy's [numpy.median](https://numpy.org/doc/stable/reference/generated/numpy.median.html) function or pandas' [pandas.DataFrame.median](https://pandas.pydata.org/pandas-docs/stable/reference/api/pandas.DataFrame.median.html) method helpful."
      ]
    },
    {
      "cell_type": "code",
      "execution_count": 27,
      "metadata": {
        "id": "qLQyPsen5ExP"
      },
      "outputs": [],
      "source": [
        "# YOUR CHANGES HERE\n",
        "\n",
        "p5 = mango_data['estimated_flavor'].median()"
      ]
    },
    {
      "cell_type": "markdown",
      "metadata": {},
      "source": [
        "Check the value of `p5`."
      ]
    },
    {
      "cell_type": "code",
      "execution_count": 28,
      "metadata": {},
      "outputs": [
        {
          "data": {
            "text/plain": [
              "np.float64(2.0)"
            ]
          },
          "execution_count": 28,
          "metadata": {},
          "output_type": "execute_result"
        }
      ],
      "source": [
        "p5"
      ]
    },
    {
      "cell_type": "markdown",
      "metadata": {
        "id": "4Sona6mNZDRD"
      },
      "source": [
        "### Problem 6\n",
        "\n",
        "How many local extrema does the function $x^3 - 3x$ have?"
      ]
    },
    {
      "cell_type": "code",
      "execution_count": 29,
      "metadata": {},
      "outputs": [
        {
          "data": {
            "image/png": "[encoded data removed]",
            "text/plain": [
              "<Figure size 640x480 with 1 Axes>"
            ]
          },
          "metadata": {},
          "output_type": "display_data"
        }
      ],
      "source": [
        "# @title Plot of $x^3 - 3x$\n",
        "\n",
        "xs = np.linspace(-5,5)\n",
        "plt.plot(xs, xs**3 - 3 * xs);"
      ]
    },
    {
      "cell_type": "code",
      "execution_count": 30,
      "metadata": {
        "id": "8Ply7kvsZ9AB"
      },
      "outputs": [],
      "source": [
        "# YOUR CHANGES HERE\n",
        "# local extrema: where derivative is 0\n",
        "# derivative of x^3 - 3x = 3x^2 - 3\n",
        "# two points (roughly at x = 1 and x = -1)\n",
        "# plug in 3(1)^2 - 3 = 0 and 3(-1)^2 - 3 = 0\n",
        "p6 = 2"
      ]
    },
    {
      "cell_type": "markdown",
      "metadata": {},
      "source": [
        "Check the value of `p6`."
      ]
    },
    {
      "cell_type": "code",
      "execution_count": 31,
      "metadata": {},
      "outputs": [
        {
          "data": {
            "text/plain": [
              "2"
            ]
          },
          "execution_count": 31,
          "metadata": {},
          "output_type": "execute_result"
        }
      ],
      "source": [
        "p6"
      ]
    },
    {
      "cell_type": "markdown",
      "metadata": {
        "id": "2sm6qPi7aKWO"
      },
      "source": [
        "### Problem 7\n",
        "\n",
        "Set `p7` to the number of following functions that are convex."
      ]
    },
    {
      "cell_type": "code",
      "execution_count": 77,
      "metadata": {},
      "outputs": [
        {
          "data": {
            "image/png": "[encoded data removed]",
            "text/plain": [
              "<Figure size 1000x400 with 10 Axes>"
            ]
          },
          "metadata": {},
          "output_type": "display_data"
        }
      ],
      "source": [
        "# @ title Functions to Check for Convexity\n",
        "\n",
        "xs = np.linspace(-100, 100)\n",
        "\n",
        "plt.figure(figsize=(10, 4))\n",
        "plt.subplot(2, 5, 1)\n",
        "plt.plot(xs, xs**2)\n",
        "plt.title(\"$x^2$\")\n",
        "\n",
        "plt.subplot(2, 5, 2)\n",
        "plt.plot(xs, -xs**2)\n",
        "plt.title(\"$-x^2$\")\n",
        "\n",
        "plt.subplot(2, 5, 3)\n",
        "plt.plot(xs, xs**3)\n",
        "plt.title(\"$x^3$\")\n",
        "\n",
        "plt.subplot(2, 5, 4)\n",
        "plt.plot(xs, xs**4)\n",
        "plt.title(\"$x^4$\")\n",
        "\n",
        "plt.subplot(2, 5, 5)\n",
        "plt.plot(xs, xs*xs - 9 * xs)\n",
        "plt.title(\"$x^2 - 9x$\")\n",
        "\n",
        "plt.subplot(2, 5, 6)\n",
        "plt.plot(xs, xs)\n",
        "plt.title(\"$x$\")\n",
        "\n",
        "plt.subplot(2, 5, 7)\n",
        "plt.plot(xs, -xs**4+1000 * xs**2)\n",
        "plt.title(\"$1000x^2 - x^4$\")\n",
        "\n",
        "plt.subplot(2, 5, 8)\n",
        "plt.plot([x for x in xs if x > 0], [1 / x for x in xs if x > 0], color=\"C0\")\n",
        "plt.plot([x for x in xs if x < 0], [1 / x for x in xs if x < 0], color=\"C0\")\n",
        "plt.title(\"$1/x$\")\n",
        "\n",
        "plt.subplot(2, 5, 9)\n",
        "plt.plot(xs, -xs)\n",
        "plt.title(\"$-x$\")\n",
        "\n",
        "plt.subplot(2, 5, 10)\n",
        "plt.plot(xs, 0.001 * xs**2)\n",
        "plt.title(\"$0.001 x^2$\")\n",
        "\n",
        "plt.subplots_adjust(hspace=0.4, wspace=0.4);"
      ]
    },
    {
      "cell_type": "markdown",
      "metadata": {},
      "source": [
        "Hint: Convexity is a global property of functions.\n",
        "You may want to change the range of x values to see the big picture."
      ]
    },
    {
      "cell_type": "code",
      "execution_count": null,
      "metadata": {
        "id": "0R8DkzA7bEJQ"
      },
      "outputs": [],
      "source": [
        "# YOUR CHANGES HERE\n",
        "# Convexity: curve up\n",
        "p7 = 6"
      ]
    },
    {
      "cell_type": "markdown",
      "metadata": {},
      "source": [
        "Check the value of `p7`."
      ]
    },
    {
      "cell_type": "code",
      "execution_count": 34,
      "metadata": {},
      "outputs": [
        {
          "data": {
            "text/plain": [
              "5"
            ]
          },
          "execution_count": 34,
          "metadata": {},
          "output_type": "execute_result"
        }
      ],
      "source": [
        "p7"
      ]
    },
    {
      "cell_type": "markdown",
      "metadata": {},
      "source": [
        "### Problem 8\n",
        "\n",
        "Set `p8` to $\\lim_{x \\to 2^-} \\frac{|x-2|}{x-2}$."
      ]
    },
    {
      "cell_type": "code",
      "execution_count": 35,
      "metadata": {},
      "outputs": [],
      "source": [
        "# YOUR CHANGES HERE\n",
        "# abs(x - 2) / (x - 2)\n",
        "# (x - 2) / (x - 2) = 1\n",
        "# lim x -> 2- = -1\n",
        "# lim x -> 2+ = 1\n",
        "#       since abs(2 - 2) / (2 - 2) = undefined (0/0)\n",
        "p8 = -1"
      ]
    },
    {
      "cell_type": "markdown",
      "metadata": {},
      "source": [
        "Check the value of `p8`."
      ]
    },
    {
      "cell_type": "code",
      "execution_count": 36,
      "metadata": {},
      "outputs": [
        {
          "data": {
            "text/plain": [
              "-1"
            ]
          },
          "execution_count": 36,
          "metadata": {},
          "output_type": "execute_result"
        }
      ],
      "source": [
        "p8"
      ]
    },
    {
      "cell_type": "markdown",
      "metadata": {
        "id": "8Txa1RCXctp8"
      },
      "source": [
        "### Problem 9\n",
        "\n",
        "Write a function `p9` returning the derivative of $x^5$."
      ]
    },
    {
      "cell_type": "code",
      "execution_count": 37,
      "metadata": {
        "id": "O-UvSyhKgofV"
      },
      "outputs": [],
      "source": [
        "# YOUR CHANGES HERE\n",
        "# derivative x**5 is 5x**4\n",
        "def p9(x):\n",
        "    return 5 * x**4"
      ]
    },
    {
      "cell_type": "markdown",
      "metadata": {},
      "source": [
        "Check the output of `p9`."
      ]
    },
    {
      "cell_type": "code",
      "execution_count": 38,
      "metadata": {},
      "outputs": [
        {
          "data": {
            "text/plain": [
              "0"
            ]
          },
          "execution_count": 38,
          "metadata": {},
          "output_type": "execute_result"
        }
      ],
      "source": [
        "p9(0)"
      ]
    },
    {
      "cell_type": "code",
      "execution_count": 39,
      "metadata": {},
      "outputs": [
        {
          "data": {
            "text/plain": [
              "5"
            ]
          },
          "execution_count": 39,
          "metadata": {},
          "output_type": "execute_result"
        }
      ],
      "source": [
        "p9(1)"
      ]
    },
    {
      "cell_type": "markdown",
      "metadata": {
        "id": "5HznIgaTglgf"
      },
      "source": [
        "### Problem 10\n",
        "\n",
        "Write a function `p10` returning the derivative of $4 x^2$."
      ]
    },
    {
      "cell_type": "code",
      "execution_count": 40,
      "metadata": {
        "id": "8BjrglyMiE3f"
      },
      "outputs": [],
      "source": [
        "# YOUR CHANGES HERE\n",
        "# derivative of 4x**2 is 4(2)x = 8x\n",
        "def p10(x):\n",
        "    return 8 * x"
      ]
    },
    {
      "cell_type": "markdown",
      "metadata": {},
      "source": [
        "Check the output of `p10`."
      ]
    },
    {
      "cell_type": "code",
      "execution_count": 41,
      "metadata": {},
      "outputs": [
        {
          "data": {
            "text/plain": [
              "0"
            ]
          },
          "execution_count": 41,
          "metadata": {},
          "output_type": "execute_result"
        }
      ],
      "source": [
        "p10(0)"
      ]
    },
    {
      "cell_type": "code",
      "execution_count": 42,
      "metadata": {},
      "outputs": [
        {
          "data": {
            "text/plain": [
              "8"
            ]
          },
          "execution_count": 42,
          "metadata": {},
          "output_type": "execute_result"
        }
      ],
      "source": [
        "p10(1)"
      ]
    },
    {
      "cell_type": "markdown",
      "metadata": {
        "id": "fs7pnCyl20n3"
      },
      "source": [
        "### Problem 11\n",
        "\n",
        "Write a function `p11` returning the derivative of $3 e^x + 5 x^5$."
      ]
    },
    {
      "cell_type": "code",
      "execution_count": 43,
      "metadata": {
        "id": "1gp6Tcbh3IZT"
      },
      "outputs": [],
      "source": [
        "# YOUR CHANGES HERE\n",
        "# derivative of 3e**x + 5x**5 is 3e**x + 5(5)x**4 = 3e**x + 25x**4\n",
        "def p11(x):\n",
        "    return (3 * math.e**x) + (25 * x**4)"
      ]
    },
    {
      "cell_type": "markdown",
      "metadata": {},
      "source": [
        "Check the output of `p11`."
      ]
    },
    {
      "cell_type": "code",
      "execution_count": 44,
      "metadata": {},
      "outputs": [
        {
          "data": {
            "text/plain": [
              "3.0"
            ]
          },
          "execution_count": 44,
          "metadata": {},
          "output_type": "execute_result"
        }
      ],
      "source": [
        "p11(0)"
      ]
    },
    {
      "cell_type": "code",
      "execution_count": 45,
      "metadata": {},
      "outputs": [
        {
          "data": {
            "text/plain": [
              "33.15484548537714"
            ]
          },
          "execution_count": 45,
          "metadata": {},
          "output_type": "execute_result"
        }
      ],
      "source": [
        "p11(1)"
      ]
    },
    {
      "cell_type": "markdown",
      "metadata": {
        "id": "kBKzQOSRimNE"
      },
      "source": [
        "### Problem 12\n",
        "\n",
        "Write a function `p12` returning the derivative of $\\log_3(x)$.\n",
        "\n",
        "You could try to derive this using the chain rule, but feel free to look up the rule for logarithms with different bases."
      ]
    },
    {
      "cell_type": "code",
      "execution_count": 46,
      "metadata": {
        "id": "AfQA658F4QXn"
      },
      "outputs": [],
      "source": [
        "# YOUR CHANGES HERE\n",
        "# derivative of logn(x) is 1 / x * ln(n)\n",
        "# so, derivative of log3(x) is 1 / x * ln(3)\n",
        "\n",
        "def p12(x):\n",
        "    return 1 / (x * math.log(3))"
      ]
    },
    {
      "cell_type": "markdown",
      "metadata": {},
      "source": [
        "Check the output of `p12`."
      ]
    },
    {
      "cell_type": "code",
      "execution_count": 47,
      "metadata": {},
      "outputs": [
        {
          "data": {
            "text/plain": [
              "0.9102392266268373"
            ]
          },
          "execution_count": 47,
          "metadata": {},
          "output_type": "execute_result"
        }
      ],
      "source": [
        "p12(1)"
      ]
    },
    {
      "cell_type": "code",
      "execution_count": 48,
      "metadata": {},
      "outputs": [
        {
          "data": {
            "text/plain": [
              "0.30341307554227914"
            ]
          },
          "execution_count": 48,
          "metadata": {},
          "output_type": "execute_result"
        }
      ],
      "source": [
        "p12(3)"
      ]
    },
    {
      "cell_type": "markdown",
      "metadata": {
        "id": "EO8OiHX231oD"
      },
      "source": [
        "### Problem 13\n",
        "\n",
        "Build a linear regression for the mango rated flavor column using all the other columns as inputs.\n",
        "Set `p13` to be the output of this model for the mean row of the data set (similar to your answer to problem 4, but without the rated flavor column)."
      ]
    },
    {
      "cell_type": "code",
      "execution_count": 49,
      "metadata": {
        "id": "hMx4gfZpkvR2"
      },
      "outputs": [
        {
          "data": {
            "image/png": "[encoded data removed]",
            "text/plain": [
              "<Figure size 640x480 with 1 Axes>"
            ]
          },
          "metadata": {},
          "output_type": "display_data"
        }
      ],
      "source": [
        "# YOUR CHANGES HERE\n",
        "\n",
        "X_mango = mango_data.drop(\"rated_flavor\", axis=1) # Features\n",
        "Y_mango = mango_data[\"rated_flavor\"]              # Target\n",
        "\n",
        "model_mango = sklearn.linear_model.LinearRegression()\n",
        "model_mango.fit(X_mango, Y_mango)\n",
        "\n",
        "mean_row = mango_data.drop(\"rated_flavor\", axis=1).mean().to_frame().T\n",
        "\n",
        "Y_pred = model_mango.predict(mean_row)\n",
        "\n",
        "data_pred = model_mango.predict(X_mango)\n",
        "plt.plot(data_pred, Y_mango, \"*\", label=\"Training Data\")\n",
        "plt.plot([0,5],[0,5])\n",
        "plt.xlabel(\"Predicted Rating\")\n",
        "plt.ylabel(\"Actual Rating\")\n",
        "plt.legend()\n",
        "plt.title(\"Model Fit: Predicted vs Actual\")\n",
        "plt.show()\n",
        "\n",
        "p13 = Y_pred[0]"
      ]
    },
    {
      "cell_type": "markdown",
      "metadata": {},
      "source": [
        "Check the value of `p13`."
      ]
    },
    {
      "cell_type": "code",
      "execution_count": 50,
      "metadata": {},
      "outputs": [
        {
          "data": {
            "text/plain": [
              "np.float64(2.0)"
            ]
          },
          "execution_count": 50,
          "metadata": {},
          "output_type": "execute_result"
        }
      ],
      "source": [
        "p13"
      ]
    },
    {
      "cell_type": "markdown",
      "metadata": {
        "id": "kaLaPYxpk0Vz"
      },
      "source": [
        "### Problem 14\n",
        "\n",
        "The derivative of the polynomial $5 x^{99} - 2 x^78 + 3 x^{25} + 4 x^4 -357$ is another polynomial.\n",
        "What is the degree of that polynomial?"
      ]
    },
    {
      "cell_type": "code",
      "execution_count": 51,
      "metadata": {
        "id": "M2wYKVq1k9mU"
      },
      "outputs": [],
      "source": [
        "# YOUR CHANGES HERE\n",
        "# 5(99)x**98 - 2(8)(7)x**6 + 3(25)x**24 + 4(4)x**3\n",
        "# degree of polynomial = highest exponent which the constant != 0\n",
        "p14 = 98"
      ]
    },
    {
      "cell_type": "markdown",
      "metadata": {},
      "source": [
        "Check the value of `p14`."
      ]
    },
    {
      "cell_type": "code",
      "execution_count": 52,
      "metadata": {},
      "outputs": [
        {
          "data": {
            "text/plain": [
              "98"
            ]
          },
          "execution_count": 52,
          "metadata": {},
          "output_type": "execute_result"
        }
      ],
      "source": [
        "p14"
      ]
    },
    {
      "cell_type": "markdown",
      "metadata": {
        "id": "xCr3e8q2k_Kw"
      },
      "source": [
        "### Problem 15\n",
        "\n",
        "Write a function `p15` that takes in parameters `m` and `b` and computes the average $L_2$ loss for the training data in `x15` and `y15` based on the linear prediction $mx + b$."
      ]
    },
    {
      "cell_type": "code",
      "execution_count": 53,
      "metadata": {},
      "outputs": [],
      "source": [
        "# DO NOT CHANGE\n",
        "\n",
        "x15 = np.asarray([0, 1, 2, 3, 4])\n",
        "y15 = np.asarray([0, 0, 1, 1, 1])"
      ]
    },
    {
      "cell_type": "code",
      "execution_count": 54,
      "metadata": {
        "id": "K1jxw2uFlZQn"
      },
      "outputs": [],
      "source": [
        "# YOUR CHANGES HERE\n",
        "\n",
        "def p15(m, b):\n",
        "    prediction = m * x15 + b\n",
        "    l2_loss = (prediction - y15) ** 2\n",
        "    average_l2_loss = np.mean(l2_loss)\n",
        "    return average_l2_loss"
      ]
    },
    {
      "cell_type": "markdown",
      "metadata": {},
      "source": [
        "Test `p15` with different inputs."
      ]
    },
    {
      "cell_type": "code",
      "execution_count": 55,
      "metadata": {},
      "outputs": [
        {
          "data": {
            "text/plain": [
              "np.float64(0.6)"
            ]
          },
          "execution_count": 55,
          "metadata": {},
          "output_type": "execute_result"
        }
      ],
      "source": [
        "p15(0, 0)"
      ]
    },
    {
      "cell_type": "code",
      "execution_count": 56,
      "metadata": {},
      "outputs": [
        {
          "data": {
            "text/plain": [
              "np.float64(0.4)"
            ]
          },
          "execution_count": 56,
          "metadata": {},
          "output_type": "execute_result"
        }
      ],
      "source": [
        "p15(0, 1)"
      ]
    },
    {
      "cell_type": "code",
      "execution_count": 57,
      "metadata": {},
      "outputs": [
        {
          "data": {
            "text/plain": [
              "np.float64(3.0)"
            ]
          },
          "execution_count": 57,
          "metadata": {},
          "output_type": "execute_result"
        }
      ],
      "source": [
        "p15(1, 0)"
      ]
    },
    {
      "cell_type": "code",
      "execution_count": 58,
      "metadata": {},
      "outputs": [
        {
          "data": {
            "text/plain": [
              "np.float64(6.8)"
            ]
          },
          "execution_count": 58,
          "metadata": {},
          "output_type": "execute_result"
        }
      ],
      "source": [
        "p15(1, 1)"
      ]
    },
    {
      "cell_type": "markdown",
      "metadata": {
        "id": "I7fYOQ7Hlb06"
      },
      "source": [
        "### Problem 16\n",
        "\n",
        "Write a function `p16` that takes in four parameters, `a`, `b`, `c`, and `x_in`, and returns the derivative of $ax^2 + bx +c$ evaluated at value $x=x_{in}$.\n",
        "\n",
        "That is, `p16` should compute $\\frac{d (ax^2 + bx +c)}{dx}(x_{in})$."
      ]
    },
    {
      "cell_type": "code",
      "execution_count": 59,
      "metadata": {
        "id": "qETAzrs8l6iU"
      },
      "outputs": [],
      "source": [
        "# YOUR CHANGES HERE\n",
        "\n",
        "def p16(a, b, c, x_in):\n",
        "    return a * 2 * x_in + b"
      ]
    },
    {
      "cell_type": "markdown",
      "metadata": {
        "id": "6wqDZ1uFl-rx"
      },
      "source": [
        "### Problem 17\n",
        "\n",
        "Set `p17` to $\\lim_{x \\to 0} x^2 \\mathrm{cos} \\left( \\frac{1}{x} \\right)$."
      ]
    },
    {
      "cell_type": "code",
      "execution_count": 60,
      "metadata": {},
      "outputs": [
        {
          "data": {
            "image/png": "[encoded data removed]",
            "text/plain": [
              "<Figure size 640x480 with 1 Axes>"
            ]
          },
          "metadata": {},
          "output_type": "display_data"
        }
      ],
      "source": [
        "# @title Plot of $x^2 cos(1/x)\n",
        "\n",
        "xs = np.linspace(-0.25, 0.25, 1000)\n",
        "plt.plot(xs, xs**2 * np.cos(1 / xs));"
      ]
    },
    {
      "cell_type": "markdown",
      "metadata": {},
      "source": [
        "Hint: This one looks tricky because $\\mathrm{cos} \\left( \\frac{1}{x} \\right)$ oscillates increasingly fast as $x$ approaches zero.\n",
        "However, you should still be able to bound its behavior."
      ]
    },
    {
      "cell_type": "code",
      "execution_count": 61,
      "metadata": {
        "id": "r6b4X09smlcz"
      },
      "outputs": [],
      "source": [
        "# YOUR CHANGES HERE\n",
        "\n",
        "p17 = 0"
      ]
    },
    {
      "cell_type": "code",
      "execution_count": 62,
      "metadata": {},
      "outputs": [
        {
          "data": {
            "text/plain": [
              "0"
            ]
          },
          "execution_count": 62,
          "metadata": {},
          "output_type": "execute_result"
        }
      ],
      "source": [
        "p17"
      ]
    },
    {
      "cell_type": "markdown",
      "metadata": {
        "id": "wO5h_FDkmnaC"
      },
      "source": [
        "### Problem 18\n",
        "\n",
        "Given a model with a single parameter $c$ whose loss function in terms of $c$ is convex, and given the following samples of the loss function output, what is the best (highest) lower bound that you can put on the optimal value of $c$?\n",
        "\n",
        "| c | Loss(c) |\n",
        "|---:|---:|\n",
        "| 0 | 1.0 |\n",
        "| 1 | 0.5 |\n",
        "| 2 | 0.25 |\n",
        "| 3 | 0.125 | \n",
        "| 4 | 0.25 |\n",
        "| 5 | 0.6 |\n",
        "| 6 | 0.9 |"
      ]
    },
    {
      "cell_type": "code",
      "execution_count": null,
      "metadata": {
        "id": "E8cvcltFq4wn"
      },
      "outputs": [],
      "source": [
        "# YOUR CHANGES HERE\n",
        "# optimal Loss(c) is 3 (0.125) since it is the lowest loss function value\n",
        "# so, the best lower bound that you can put on the optimal value of c would be the previous Loss(c) of 0.25, c = 2.\n",
        "# wouldnt be c = 4 because that is not in the lower bound\n",
        "p18 = 2"
      ]
    },
    {
      "cell_type": "markdown",
      "metadata": {},
      "source": [
        "Check the value of `p18`."
      ]
    },
    {
      "cell_type": "code",
      "execution_count": 64,
      "metadata": {},
      "outputs": [
        {
          "data": {
            "text/plain": [
              "0.125"
            ]
          },
          "execution_count": 64,
          "metadata": {},
          "output_type": "execute_result"
        }
      ],
      "source": [
        "p18"
      ]
    },
    {
      "cell_type": "markdown",
      "metadata": {
        "id": "OIv4TecnnLwW"
      },
      "source": [
        "### Problem 19\n",
        "\n",
        "Write a function `p19` that returns the strings \"cat\", \"dog\", \"cow\", \"tiger\" or \"horse\" with equal probability."
      ]
    },
    {
      "cell_type": "code",
      "execution_count": 78,
      "metadata": {
        "id": "CXavfX24nWyL"
      },
      "outputs": [],
      "source": [
        "# YOUR CHANGES HERE\n",
        "import random\n",
        "def p19():\n",
        "    strings = ['cat', 'dog', 'cow', 'tiger', 'horse']\n",
        "    return random.choices(strings)"
      ]
    },
    {
      "cell_type": "code",
      "execution_count": 83,
      "metadata": {},
      "outputs": [
        {
          "data": {
            "text/plain": [
              "[['dog'],\n",
              " ['cat'],\n",
              " ['horse'],\n",
              " ['tiger'],\n",
              " ['cat'],\n",
              " ['tiger'],\n",
              " ['horse'],\n",
              " ['dog'],\n",
              " ['dog'],\n",
              " ['cat']]"
            ]
          },
          "execution_count": 83,
          "metadata": {},
          "output_type": "execute_result"
        }
      ],
      "source": [
        "[p19() for _ in range(10)]"
      ]
    },
    {
      "cell_type": "markdown",
      "metadata": {
        "id": "WJy4fHQlnYos"
      },
      "source": [
        "### Problem 20\n",
        "\n",
        "Set `p20` to the value of $x$ that minimizes $x^4 + 3x^3 + 2x + 5$."
      ]
    },
    {
      "cell_type": "code",
      "execution_count": 67,
      "metadata": {},
      "outputs": [],
      "source": [
        "def q20(x):\n",
        "    return x**4 + 3 * x**3 + 2*x + 5"
      ]
    },
    {
      "cell_type": "code",
      "execution_count": 68,
      "metadata": {},
      "outputs": [
        {
          "data": {
            "image/png": "[encoded data removed]",
            "text/plain": [
              "<Figure size 640x480 with 1 Axes>"
            ]
          },
          "metadata": {},
          "output_type": "display_data"
        }
      ],
      "source": [
        "# @title Plot of $x^4 + 3x^3 + 2x + 5$\n",
        "\n",
        "xs = np.linspace(-5, 5, 1000)\n",
        "plt.plot(xs, xs**4 + 3 * xs**3 + 2*xs + 5);"
      ]
    },
    {
      "cell_type": "markdown",
      "metadata": {},
      "source": [
        "Hint: whatever tactics you prefer to minimize this function numerically."
      ]
    },
    {
      "cell_type": "code",
      "execution_count": 89,
      "metadata": {
        "id": "qHCZc2VFrDfY"
      },
      "outputs": [
        {
          "name": "stdout",
          "output_type": "stream",
          "text": [
            "Min near -2.5: [-2.34121912] Function value: -8.1365341913439\n",
            "Min near 1.5: [-2.34121907] Function value: -8.136534191343872\n",
            "-2.3412191189329734\n"
          ]
        }
      ],
      "source": [
        "# YOUR CHANGES HERE\n",
        "from scipy.optimize import minimize_scalar # https://docs.scipy.org/doc/scipy/reference/generated/scipy.optimize.minimize_scalar.html\n",
        "from scipy.optimize import minimize\n",
        "\n",
        "# Start near global minimum\n",
        "result_global = minimize(q20, x0=[-2.5])\n",
        "print(\"Min near -2.5:\", result_global.x, \"Function value:\", result_global.fun)\n",
        "\n",
        "# Starting near local minimum\n",
        "result_local = minimize(q20, x0=[1.5])\n",
        "print(\"Min near 1.5:\", result_local.x, \"Function value:\", result_local.fun)\n",
        "\n",
        "print(result_global.x[0]) \n",
        "\n",
        "p20 = result_global.x[0]"
      ]
    },
    {
      "cell_type": "markdown",
      "metadata": {},
      "source": [
        "Check the value of `p20`."
      ]
    },
    {
      "cell_type": "code",
      "execution_count": 90,
      "metadata": {},
      "outputs": [
        {
          "data": {
            "text/plain": [
              "np.float64(-2.3412191189329734)"
            ]
          },
          "execution_count": 90,
          "metadata": {},
          "output_type": "execute_result"
        }
      ],
      "source": [
        "p20"
      ]
    },
    {
      "cell_type": "code",
      "execution_count": 91,
      "metadata": {},
      "outputs": [
        {
          "data": {
            "text/plain": [
              "np.float64(-8.1365341913439)"
            ]
          },
          "execution_count": 91,
          "metadata": {},
          "output_type": "execute_result"
        }
      ],
      "source": [
        "q20(p20)"
      ]
    },
    {
      "cell_type": "markdown",
      "metadata": {},
      "source": [
        "### Generative AI Usage\n",
        "\n",
        "If you used any generative AI tools, please add links to your transcripts below, and any other information that you feel is necessary to comply with the [generative AI policy](https://www.bu.edu/cds-faculty/culture-community/gaia-policy/).\n",
        "If you did not use any generative AI tools, simply write NONE below."
      ]
    },
    {
      "cell_type": "markdown",
      "metadata": {},
      "source": [
        "https://terriergpt.bu.edu/share/Ra5XbzWi4l0dCboYFueoa"
      ]
    }
  ],
  "metadata": {
    "colab": {
      "toc_visible": false
    },
    "kernelspec": {
      "display_name": "Python 3",
      "name": "python3"
    },
    "language_info": {
      "codemirror_mode": {
        "name": "ipython",
        "version": 3
      },
      "file_extension": ".py",
      "mimetype": "text/x-python",
      "name": "python",
      "nbconvert_exporter": "python",
      "pygments_lexer": "ipython3",
      "version": "3.11.4"
    }
  },
  "nbformat": 4,
  "nbformat_minor": 0
}
